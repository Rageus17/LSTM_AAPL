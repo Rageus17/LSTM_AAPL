{
 "cells": [
  {
   "cell_type": "code",
   "execution_count": 34,
   "id": "703da357-161b-4e2f-8af5-080b62502644",
   "metadata": {},
   "outputs": [],
   "source": [
    "import os\n",
    "os.environ['KMP_DUPLICATE_LIB_OK'] = 'True'"
   ]
  },
  {
   "cell_type": "code",
   "execution_count": 35,
   "id": "66b5857a-a22a-4e4e-8ff6-71dabacb601a",
   "metadata": {},
   "outputs": [],
   "source": [
    "import torch\n",
    "import pandas as pd\n",
    "import matplotlib.pyplot as plt\n",
    "import numpy as np\n",
    "import seaborn as sns\n",
    "from torch import nn"
   ]
  },
  {
   "cell_type": "code",
   "execution_count": 36,
   "id": "2ab58286-27c0-4d8a-adad-61276f6686a3",
   "metadata": {},
   "outputs": [],
   "source": [
    "df = pd.read_csv(r'C:\\Users\\User\\Documents\\dataset.csv')"
   ]
  },
  {
   "cell_type": "code",
   "execution_count": 37,
   "id": "c80f4c89-4c98-4372-8fc4-f6f87cfbc42e",
   "metadata": {},
   "outputs": [],
   "source": [
    "apple_close = df['AAPL'].dropna()\n",
    "apple_close = apple_close.astype('float32')"
   ]
  },
  {
   "cell_type": "code",
   "execution_count": 38,
   "id": "a20158a6-d443-4293-b45c-a59fc5aee846",
   "metadata": {},
   "outputs": [
    {
     "data": {
      "text/plain": [
       "0         7.643214\n",
       "1         7.656429\n",
       "2         7.534643\n",
       "3         7.520714\n",
       "4         7.570714\n",
       "           ...    \n",
       "3791    227.179993\n",
       "3792    228.029999\n",
       "3793    226.490005\n",
       "3794    229.789993\n",
       "3795    229.000000\n",
       "Name: AAPL, Length: 3690, dtype: float32"
      ]
     },
     "execution_count": 38,
     "metadata": {},
     "output_type": "execute_result"
    }
   ],
   "source": [
    "apple_close"
   ]
  },
  {
   "cell_type": "code",
   "execution_count": 39,
   "id": "2294cb20-15ae-40cd-9056-a438a6d5a745",
   "metadata": {},
   "outputs": [],
   "source": [
    "maxdf = apple_close.max()"
   ]
  },
  {
   "cell_type": "code",
   "execution_count": 40,
   "id": "046c02f8-a963-4479-963b-872bcb39e5d4",
   "metadata": {},
   "outputs": [],
   "source": [
    "mindf = apple_close.min()"
   ]
  },
  {
   "cell_type": "code",
   "execution_count": 41,
   "id": "323cc14e-1056-4030-8d33-c84eca882423",
   "metadata": {},
   "outputs": [],
   "source": [
    "apple_close = (apple_close - apple_close.min()) / (apple_close.max()-apple_close.min())"
   ]
  },
  {
   "cell_type": "code",
   "execution_count": 42,
   "id": "50ecf48d-ea28-41a1-b1c1-4dbed021d84b",
   "metadata": {},
   "outputs": [],
   "source": [
    "lookback = 60\n",
    "train_dataset=[]\n",
    "y_dataset = []\n",
    "for i in range(len(apple_close)):\n",
    "    if len(apple_close.iloc[i:60+i])==lookback:\n",
    "        train_dataset.append(apple_close.iloc[i:60+i].values)\n",
    "        try:\n",
    "            y_dataset.append(apple_close.iloc[60+i])\n",
    "        except:\n",
    "            pass\n",
    "    else:\n",
    "        pass"
   ]
  },
  {
   "cell_type": "code",
   "execution_count": 43,
   "id": "482e140c-2218-4101-8dfb-287a57d21847",
   "metadata": {},
   "outputs": [],
   "source": [
    "x = torch.tensor(train_dataset)\n",
    "y = torch.tensor(y_dataset)"
   ]
  },
  {
   "cell_type": "code",
   "execution_count": 44,
   "id": "f06f70e4-a8bb-4332-a5f4-9e3ffedf3cb2",
   "metadata": {},
   "outputs": [],
   "source": [
    "train_split = int(x.shape[0]*0.8)"
   ]
  },
  {
   "cell_type": "code",
   "execution_count": 45,
   "id": "e4ba55cf-a671-40b9-8702-8217796de72c",
   "metadata": {},
   "outputs": [],
   "source": [
    "x_train = x[:train_split]\n",
    "x_test = x[train_split:-1]\n",
    "\n",
    "y_train = y[:train_split].reshape(len(x_train),1)\n",
    "y_test = y[train_split:].reshape(len(x_test),1)"
   ]
  },
  {
   "cell_type": "code",
   "execution_count": 46,
   "id": "5adf060b-fc47-46e6-83c9-b3b6b49b43ac",
   "metadata": {},
   "outputs": [],
   "source": [
    "class LSTM(nn.Module):\n",
    "    def __init__(self):\n",
    "        super().__init__()\n",
    "        self.lstm = nn.LSTM(input_size=60, hidden_size=64, num_layers=1, batch_first=True)\n",
    "        self.linear = nn.Linear(64, 32)\n",
    "        self.linear2 = nn.Linear(32,1)\n",
    "    def forward(self, x):\n",
    "        x, _ = self.lstm(x)\n",
    "        x = self.linear(x)\n",
    "        x = self.linear2(x)\n",
    "        return x"
   ]
  },
  {
   "cell_type": "code",
   "execution_count": 47,
   "id": "676001b5-78d1-42f1-9f7b-6677758eb369",
   "metadata": {},
   "outputs": [],
   "source": [
    "import torch.optim as optim\n",
    "import torch.utils.data as data"
   ]
  },
  {
   "cell_type": "code",
   "execution_count": 74,
   "id": "70ff3b69-e821-4292-b054-f2e093543b04",
   "metadata": {},
   "outputs": [],
   "source": [
    "class DirectionalLoss(nn.Module):\n",
    "    def __init__(self):\n",
    "        super(DirectionalLoss, self).__init__()\n",
    "\n",
    "    def forward(self, predictions, targets):\n",
    "        # Centering the data\n",
    "        predictions_centered = predictions - torch.mean(predictions)\n",
    "        targets_centered = targets - torch.mean(targets)\n",
    "\n",
    "        # Computing the numerator as dot product of centered predictions and targets\n",
    "        numerator = torch.sum(predictions_centered * targets_centered)\n",
    "\n",
    "        # Computing the denominator as product of their norms\n",
    "        denominator = torch.sqrt(torch.sum(predictions_centered ** 2)) * torch.sqrt(torch.sum(targets_centered ** 2))\n",
    "\n",
    "        # Avoiding division by zero\n",
    "        if denominator == 0:\n",
    "            return torch.tensor(0.0, requires_grad=True)\n",
    "\n",
    "        # Correlation coefficient\n",
    "        correlation = numerator / denominator\n",
    "\n",
    "        # Negative correlation for loss (as we want to maximize the correlation)\n",
    "        loss = -correlation\n",
    "        return loss"
   ]
  },
  {
   "cell_type": "code",
   "execution_count": 96,
   "id": "70ede8eb-f22b-4c3d-86d1-112259d104c8",
   "metadata": {},
   "outputs": [],
   "source": [
    "model = LSTM()\n",
    "optimizer = optim.Adam(model.parameters())\n",
    "loss_fn = nn.MSELoss()\n",
    "loader = data.DataLoader(data.TensorDataset(x_train, y_train), shuffle=False, batch_size=16)"
   ]
  },
  {
   "cell_type": "code",
   "execution_count": 106,
   "id": "59450f52-4994-482a-99aa-161a6e3b7766",
   "metadata": {},
   "outputs": [
    {
     "name": "stdout",
     "output_type": "stream",
     "text": [
      "Epoch 0: train MSE 0.0187, test MSE 0.0240\n",
      "Epoch 100: train MSE 0.0316, test MSE 0.0660\n",
      "Epoch 200: train MSE 0.0445, test MSE 0.0978\n",
      "Epoch 300: train MSE 0.0396, test MSE 0.0275\n",
      "Epoch 400: train MSE 0.0268, test MSE 0.0295\n",
      "Epoch 500: train MSE 0.0547, test MSE 0.0878\n",
      "Epoch 600: train MSE 0.0536, test MSE 0.1432\n",
      "Epoch 700: train MSE 0.0600, test MSE 0.1145\n",
      "Epoch 800: train MSE 0.0514, test MSE 0.0927\n",
      "Epoch 900: train MSE 0.0407, test MSE 0.0927\n"
     ]
    }
   ],
   "source": [
    "n_epochs = 1000\n",
    "for epoch in range(n_epochs):\n",
    "    model.train()\n",
    "    for X_batch, y_batch in loader:\n",
    "        y_pred = model(X_batch)\n",
    "        loss = loss_fn(y_pred, y_batch)\n",
    "        optimizer.zero_grad()\n",
    "        loss.backward()\n",
    "        optimizer.step()\n",
    "    # Validation\n",
    "    if epoch % 100 != 0:\n",
    "        continue\n",
    "    model.eval()\n",
    "    with torch.no_grad():\n",
    "        y_pred = model(x_train)\n",
    "        train_rmse = torch.sqrt(loss_fn(y_pred, y_train))\n",
    "        y_pred = model(x_test)\n",
    "        test_rmse = torch.sqrt(loss_fn(y_pred, y_test))\n",
    "    print(\"Epoch %d: train RMSE %.4f, test RMSE %.4f\" % (epoch, train_rmse, test_rmse))"
   ]
  },
  {
   "cell_type": "code",
   "execution_count": 107,
   "id": "0655acf5-b22a-4705-b8da-33c83153b895",
   "metadata": {},
   "outputs": [],
   "source": [
    "y_pred = model(x_test).detach().numpy()\n",
    "y_pred = y_pred*(maxdf-mindf) + mindf"
   ]
  },
  {
   "cell_type": "code",
   "execution_count": 108,
   "id": "abc77d59-7fea-4ebf-9624-0ab4cca2f51f",
   "metadata": {},
   "outputs": [],
   "source": [
    "y_pred = y_pred.reshape(-1)"
   ]
  },
  {
   "cell_type": "code",
   "execution_count": 109,
   "id": "c0df1ffa-11af-44a2-b4c1-554b823b0e9b",
   "metadata": {},
   "outputs": [],
   "source": [
    "y_tes = (apple_close[-726:].values)*(maxdf-mindf) + mindf"
   ]
  },
  {
   "cell_type": "code",
   "execution_count": 110,
   "id": "b943bac6-b9aa-47d9-8351-9170c2c948df",
   "metadata": {},
   "outputs": [],
   "source": [
    "from sklearn.metrics import mean_absolute_error"
   ]
  },
  {
   "cell_type": "code",
   "execution_count": 111,
   "id": "72f2236f-30eb-49da-82b1-e18c44fb6f20",
   "metadata": {},
   "outputs": [
    {
     "data": {
      "text/plain": [
       "10.669985"
      ]
     },
     "execution_count": 111,
     "metadata": {},
     "output_type": "execute_result"
    }
   ],
   "source": [
    "mean_absolute_error(y_pred,y_tes)"
   ]
  },
  {
   "cell_type": "code",
   "execution_count": 112,
   "id": "e3050dfb-8268-4659-8537-34f2d756cfae",
   "metadata": {},
   "outputs": [
    {
     "data": {
      "text/plain": [
       "array([234.10172, 233.57993, 234.56392, 234.91316], dtype=float32)"
      ]
     },
     "execution_count": 112,
     "metadata": {},
     "output_type": "execute_result"
    }
   ],
   "source": [
    "y_pred[-4:]"
   ]
  },
  {
   "cell_type": "code",
   "execution_count": 113,
   "id": "a8cd9e43-e98f-4239-a044-6cae5632a0a5",
   "metadata": {},
   "outputs": [
    {
     "data": {
      "text/plain": [
       "array([228.03, 226.49, 229.79, 229.  ], dtype=float32)"
      ]
     },
     "execution_count": 113,
     "metadata": {},
     "output_type": "execute_result"
    }
   ],
   "source": [
    "y_tes[-4:]"
   ]
  },
  {
   "cell_type": "code",
   "execution_count": 114,
   "id": "5e2e723e-842c-4930-a1b3-358397d8a176",
   "metadata": {},
   "outputs": [
    {
     "data": {
      "image/png": "[encoded data removed]",
      "text/plain": [
       "<Figure size 640x480 with 1 Axes>"
      ]
     },
     "metadata": {},
     "output_type": "display_data"
    }
   ],
   "source": [
    "sns.lineplot(y_tes[-30:],label='real',marker='o')\n",
    "sns.lineplot(y_pred[-30:],label='prediction',marker='*')\n",
    "\n",
    "plt.grid()\n",
    "plt.legend()\n",
    "plt.show()"
   ]
  },
  {
   "cell_type": "code",
   "execution_count": null,
   "id": "892f0ef0-b97e-4d82-82f1-1b71232ecc5a",
   "metadata": {},
   "outputs": [],
   "source": []
  }
 ],
 "metadata": {
  "kernelspec": {
   "display_name": "Python 3 (ipykernel)",
   "language": "python",
   "name": "python3"
  },
  "language_info": {
   "codemirror_mode": {
    "name": "ipython",
    "version": 3
   },
   "file_extension": ".py",
   "mimetype": "text/x-python",
   "name": "python",
   "nbconvert_exporter": "python",
   "pygments_lexer": "ipython3",
   "version": "3.11.9"
  }
 },
 "nbformat": 4,
 "nbformat_minor": 5
}
